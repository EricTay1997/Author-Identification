{
 "cells": [
  {
   "cell_type": "markdown",
   "metadata": {},
   "source": [
    "# Import and Process Data"
   ]
  },
  {
   "cell_type": "code",
   "execution_count": 1,
   "metadata": {},
   "outputs": [
    {
     "name": "stdout",
     "output_type": "stream",
     "text": [
      "10\n"
     ]
    }
   ],
   "source": [
    "import os\n",
    "\n",
    "# Get list of authors\n",
    "train_directory = './C50/C50train'\n",
    "test_directory = './C50/C50test'\n",
    "authors = set()\n",
    "for filename in os.listdir(train_directory):\n",
    "    authors.add(filename)\n",
    "# Remove this line if there are errors thrown\n",
    "authors.remove(\".DS_Store\")\n",
    "# Just take 10 authors\n",
    "authors = sorted(list(authors))[:10]\n",
    "print(len(authors))"
   ]
  },
  {
   "cell_type": "code",
   "execution_count": 2,
   "metadata": {},
   "outputs": [
    {
     "name": "stdout",
     "output_type": "stream",
     "text": [
      "50\n",
      "50\n"
     ]
    }
   ],
   "source": [
    "# train and test are dictionaries\n",
    "# keys are the 10 authors\n",
    "# values are the 50 texts written by the author\n",
    "train = {}\n",
    "test = {}\n",
    "for author in authors:\n",
    "    train[author] = []\n",
    "    test[author] = []\n",
    "for author in authors:\n",
    "    for filename in os.listdir(train_directory + \"/\" + author):\n",
    "        f = open(train_directory + \"/\" + author + \"/\" + filename, \"r\")\n",
    "        train[author].append(f.read())\n",
    "        f.close()\n",
    "    for filename in os.listdir(test_directory + \"/\" + author):\n",
    "        f = open(test_directory + \"/\" + author + \"/\" + filename, \"r\")\n",
    "        test[author].append(f.read())\n",
    "        f.close()\n",
    "print(len(train[authors[0]]))\n",
    "print(len(test[authors[0]]))"
   ]
  },
  {
   "cell_type": "code",
   "execution_count": 3,
   "metadata": {},
   "outputs": [
    {
     "name": "stderr",
     "output_type": "stream",
     "text": [
      "[nltk_data] Downloading package punkt to\n",
      "[nltk_data]     /Users/erictay1997/nltk_data...\n",
      "[nltk_data]   Package punkt is already up-to-date!\n",
      "[nltk_data] Downloading package averaged_perceptron_tagger to\n",
      "[nltk_data]     /Users/erictay1997/nltk_data...\n",
      "[nltk_data]   Package averaged_perceptron_tagger is already up-to-\n",
      "[nltk_data]       date!\n"
     ]
    }
   ],
   "source": [
    "import nltk\n",
    "from nltk.stem import WordNetLemmatizer\n",
    "from nltk.corpus import wordnet\n",
    "nltk.download('punkt')\n",
    "nltk.download('averaged_perceptron_tagger')\n",
    "splitter = nltk.data.load('tokenizers/punkt/english.pickle')\n",
    "tokenizer = nltk.tokenize.TreebankWordTokenizer()\n",
    "lemmatizer = WordNetLemmatizer()\n",
    "\n",
    "def tokenise(text):\n",
    "    ret = []\n",
    "    sentences = splitter.tokenize(text)\n",
    "    for sentence in sentences:\n",
    "        token_list = tokenizer.tokenize(sentence)\n",
    "        for token in token_list:\n",
    "            ret.append(token.lower())\n",
    "    return ret\n",
    "\n",
    "def get_wordnet_pos(treebank_tag):\n",
    "    if treebank_tag.startswith('J'):\n",
    "        return wordnet.ADJ\n",
    "    elif treebank_tag.startswith('V'):\n",
    "        return wordnet.VERB\n",
    "    elif treebank_tag.startswith('N'):\n",
    "        return wordnet.NOUN\n",
    "    elif treebank_tag.startswith('R'):\n",
    "        return wordnet.ADV\n",
    "    else:\n",
    "        # As default pos in lemmatization is Noun\n",
    "        return wordnet.NOUN\n",
    "\n",
    "def process_text(text):\n",
    "    token_list = tokenise(text)\n",
    "    # Pos Tag\n",
    "    pos = nltk.pos_tag(token_list)\n",
    "    # Lemmatize\n",
    "    return [lemmatizer.lemmatize(word,get_wordnet_pos(pos_tag)) for (word,pos_tag) in pos]"
   ]
  },
  {
   "cell_type": "code",
   "execution_count": 4,
   "metadata": {},
   "outputs": [],
   "source": [
    "def tokenise_2(text):\n",
    "    sentences = splitter.tokenize(text)\n",
    "    tokenized_sentences = [tokenizer.tokenize(sentence) for sentence in sentences]\n",
    "    for tokenized_sentence in tokenized_sentences:\n",
    "        for i in range(len(tokenized_sentence)):\n",
    "            tokenized_sentence[i] = tokenized_sentence[i].lower()\n",
    "    return tokenized_sentences\n",
    "\n",
    "def process_text_2(text):\n",
    "    list_of_token_lists = tokenise_2(text)\n",
    "    for i in range(len(list_of_token_lists)):\n",
    "        token_list = list_of_token_lists[i]\n",
    "        # Pos Tag\n",
    "        pos = nltk.pos_tag(token_list)\n",
    "        # Lemmatize\n",
    "        list_of_token_lists[i] = [lemmatizer.lemmatize(word,get_wordnet_pos(pos_tag)) for (word,pos_tag) in pos]\n",
    "    return list_of_token_lists"
   ]
  },
  {
   "cell_type": "code",
   "execution_count": 5,
   "metadata": {},
   "outputs": [
    {
     "name": "stdout",
     "output_type": "stream",
     "text": [
      "['a', 'group', 'of', 'lead', 'trademark', 'specialist', 'plan', 'to', 'release', 'recommendation', 'aim', 'at', 'minimize', 'dispute', 'over', 'internet', 'address', 'name', '.', 'the', 'international', 'trademark', 'association', 'be', 'work', 'on', 'a', 'white', 'paper', 'that', 'will', 'be', 'complete', 'in', 'the', 'next', 'few', 'month', ',', 'david', 'maher', ',', 'co-chair', 'of', 'the', 'association', \"'s\", 'internet', 'issue', 'committee', ',', 'say', 'in', 'a', 'telephone', 'interview', '.']\n",
      "[['a', 'group', 'of', 'lead', 'trademark', 'specialist', 'plan', 'to', 'release', 'recommendation', 'aim', 'at', 'minimize', 'dispute', 'over', 'internet', 'address', 'name', '.'], ['the', 'international', 'trademark', 'association', 'be', 'work', 'on', 'a', 'white', 'paper', 'that', 'will', 'be', 'complete', 'in', 'the', 'next', 'few', 'month', ',', 'david', 'maher', ',', 'co-chair', 'of', 'the', 'association', \"'s\", 'internet', 'issue', 'committee', ',', 'say', 'in', 'a', 'telephone', 'interview', '.']]\n"
     ]
    }
   ],
   "source": [
    "# process_text converts a text into a list of tokens\n",
    "print(process_text(train[authors[0]][0]))\n",
    "# process_text_2 converts a text into a list of sentences \n",
    "# each sentence is converted into a list of tokens\n",
    "print(process_text_2(train[authors[0]][0]))"
   ]
  },
  {
   "cell_type": "code",
   "execution_count": 6,
   "metadata": {},
   "outputs": [
    {
     "name": "stdout",
     "output_type": "stream",
     "text": [
      "0\n",
      "1\n",
      "2\n",
      "3\n",
      "4\n",
      "5\n",
      "6\n",
      "7\n",
      "8\n",
      "9\n"
     ]
    }
   ],
   "source": [
    "# train_processed, test_processed, train_processed2, test_processed2 are dictionaries\n",
    "# keys are the 50 authors\n",
    "# values are 50 token lists written by the author\n",
    "train_processed = {}\n",
    "test_processed = {}\n",
    "train_processed_2 = {}\n",
    "test_processed_2 = {}\n",
    "for i in range(len(authors)):\n",
    "    author = authors[i]\n",
    "    print(i)\n",
    "    train_processed[author] = [process_text(text) for text in train[author]]\n",
    "    test_processed[author] = [process_text(text) for text in test[author]]\n",
    "    train_processed_2[author] = [process_text_2(text) for text in train[author]]\n",
    "    test_processed_2[author] = [process_text_2(text) for text in test[author]]"
   ]
  },
  {
   "cell_type": "markdown",
   "metadata": {},
   "source": [
    "# EDA"
   ]
  },
  {
   "cell_type": "code",
   "execution_count": 7,
   "metadata": {},
   "outputs": [],
   "source": [
    "import numpy as np\n",
    "from collections import Counter\n",
    "import matplotlib.pyplot as plt"
   ]
  },
  {
   "cell_type": "code",
   "execution_count": 8,
   "metadata": {},
   "outputs": [
    {
     "data": {
      "image/png": "[encoded data removed]",
      "text/plain": [
       "<Figure size 432x288 with 1 Axes>"
      ]
     },
     "metadata": {
      "needs_background": "light"
     },
     "output_type": "display_data"
    },
    {
     "data": {
      "image/png": "[encoded data removed]",
      "text/plain": [
       "<Figure size 432x288 with 1 Axes>"
      ]
     },
     "metadata": {
      "needs_background": "light"
     },
     "output_type": "display_data"
    },
    {
     "data": {
      "text/plain": [
       "<AxesSubplot:title={'center':'Most Frequent Tokens in Test Data'}, xlabel='Samples', ylabel='Counts'>"
      ]
     },
     "execution_count": 8,
     "metadata": {},
     "output_type": "execute_result"
    }
   ],
   "source": [
    "# Most common words in train and test\n",
    "train_words = []\n",
    "test_words = []\n",
    "for author in authors:\n",
    "    for document in train_processed[author]: \n",
    "        for token in document: \n",
    "            train_words.append(token)\n",
    "    for document in test_processed[author]:\n",
    "        for token in document:\n",
    "            test_words.append(token)\n",
    "nltk.FreqDist(train_words).plot(20, title = \"Most Frequent Tokens in Train Data\")\n",
    "nltk.FreqDist(test_words).plot(20, title = \"Most Frequent Tokens in Test Data\")"
   ]
  },
  {
   "cell_type": "code",
   "execution_count": 9,
   "metadata": {},
   "outputs": [
    {
     "name": "stdout",
     "output_type": "stream",
     "text": [
      "Number of sentences in documents with fewest sentences\n",
      "Train Data: [2, 2, 3, 3, 3, 4, 4, 6, 7, 7]\n",
      "Test Data: [3, 4, 7, 7, 9, 9, 9, 10, 10, 10]\n"
     ]
    }
   ],
   "source": [
    "train_no_sentences = []\n",
    "test_no_sentences = []\n",
    "for author in authors:\n",
    "    for document in train[author]: \n",
    "        train_no_sentences.append(len(splitter.tokenize(document)))\n",
    "    for document in test[author]:\n",
    "        test_no_sentences.append(len(splitter.tokenize(document)))\n",
    "print(\"Number of sentences in documents with fewest sentences\")\n",
    "print(\"Train Data: {}\".format(sorted(train_no_sentences)[:10]))\n",
    "print(\"Test Data: {}\".format(sorted(test_no_sentences)[:10]))"
   ]
  },
  {
   "cell_type": "code",
   "execution_count": 10,
   "metadata": {},
   "outputs": [
    {
     "name": "stdout",
     "output_type": "stream",
     "text": [
      "Average number of tokens in documents\n",
      "Train Data: 578.596\n",
      "Test Data: 595.0959999999999\n"
     ]
    }
   ],
   "source": [
    "print(\"Average number of tokens in documents\")\n",
    "print(\"Train Data: {}\".format(np.mean([np.mean([len(text) for text in train_processed[author]]) for author in authors])))\n",
    "print(\"Test Data: {}\".format(np.mean([np.mean([len(text) for text in test_processed[author]]) for author in authors])))"
   ]
  },
  {
   "cell_type": "markdown",
   "metadata": {},
   "source": [
    "# Step 2(a) Generate Synthetic Train and Test"
   ]
  },
  {
   "cell_type": "code",
   "execution_count": 11,
   "metadata": {},
   "outputs": [],
   "source": [
    "#backoff is a list \n",
    "#backoff[0] is a Counter\n",
    "#backoff[1] is a dic - word : Counter\n",
    "#backoff[2+] is a dic - tuple of words : Counter\n",
    "\n",
    "def generate_backoff(n, corpura):\n",
    "    # Create backoff list\n",
    "    backoff = []\n",
    "    backoff.append(Counter())\n",
    "    for corpus in corpura:\n",
    "        backoff[0] += Counter(corpus)\n",
    "    # Handle 2-gram case\n",
    "    dic = {}\n",
    "    for corpus in corpura:\n",
    "        for i in range(0,len(corpus)-1):\n",
    "            prefix = corpus[i]\n",
    "            next_word = corpus[i+1]\n",
    "            if prefix not in dic:\n",
    "                dic[prefix] = Counter()\n",
    "            if next_word not in dic[prefix]:\n",
    "                dic[prefix][next_word] = 0\n",
    "            dic[prefix][next_word] += 1\n",
    "    backoff.append(dic)\n",
    "    # Handle 3-grams to n-grams\n",
    "    for j in range(2, n):\n",
    "        dic = {}\n",
    "        for corpus in corpura:\n",
    "            for i in range(0,len(corpus)-j):\n",
    "                prefix = tuple(corpus[i:i+j])\n",
    "                next_word = corpus[i+j]\n",
    "                if prefix not in dic:\n",
    "                    dic[prefix] = Counter()\n",
    "                if next_word not in dic[prefix]:\n",
    "                    dic[prefix][next_word] = 0\n",
    "                dic[prefix][next_word] += 1\n",
    "        backoff.append(dic)\n",
    "    return backoff"
   ]
  },
  {
   "cell_type": "code",
   "execution_count": 12,
   "metadata": {},
   "outputs": [],
   "source": [
    "n = 6\n",
    "# train_backoff is a dict\n",
    "# where keys are authors\n",
    "# and values are the backoff lists for that author\n",
    "train_backoff = {}\n",
    "for author in authors:\n",
    "    train_backoff[author] = generate_backoff(n, train_processed[author])"
   ]
  },
  {
   "cell_type": "code",
   "execution_count": 13,
   "metadata": {},
   "outputs": [],
   "source": [
    "def find_token(counter):\n",
    "    counts = np.array(list(counter.values()))\n",
    "    p = counts/sum(counts)\n",
    "    return np.random.choice(np.array(list(counter.keys())), size = 1, p = p)[0]"
   ]
  },
  {
   "cell_type": "code",
   "execution_count": 14,
   "metadata": {},
   "outputs": [],
   "source": [
    "def create_token(sentence, backoff, n):\n",
    "    if n > 1:\n",
    "        initial_prefix = sentence[-(n-1):]\n",
    "    else:\n",
    "        initial_prefix = []\n",
    "    found_token = False\n",
    "    while not found_token:\n",
    "        length = len(initial_prefix)\n",
    "        if length > 1:\n",
    "            if tuple(initial_prefix) in backoff[length]:\n",
    "                found_token = True\n",
    "                return find_token(backoff[length][tuple(initial_prefix)])\n",
    "            initial_prefix = initial_prefix[1:]\n",
    "        if length == 1:\n",
    "            if initial_prefix[0] in backoff[length]:\n",
    "                found_token = True\n",
    "                return find_token(backoff[length][initial_prefix[0]])\n",
    "            initial_prefix = []\n",
    "        else:\n",
    "            return find_token(backoff[0])"
   ]
  },
  {
   "cell_type": "code",
   "execution_count": 15,
   "metadata": {},
   "outputs": [],
   "source": [
    "def generate_text(train_backoff, n, length):\n",
    "    sentence = []\n",
    "    while True:\n",
    "        token = create_token(sentence, train_backoff, n)\n",
    "        sentence.append(token)\n",
    "        if len(sentence) == length:\n",
    "            return sentence"
   ]
  },
  {
   "cell_type": "code",
   "execution_count": 16,
   "metadata": {},
   "outputs": [
    {
     "name": "stdout",
     "output_type": "stream",
     "text": [
      "AaronPressman\n",
      "AlanCrosby\n",
      "AlexanderSmith\n",
      "BenjaminKangLim\n",
      "BernardHickey\n",
      "BradDorfman\n",
      "DarrenSchuettler\n",
      "DavidLawder\n",
      "EdnaFernandes\n",
      "EricAuchard\n"
     ]
    }
   ],
   "source": [
    "# Generate synthetic data\n",
    "length_of_text = 600\n",
    "texts_per_author = 50\n",
    "n = 6\n",
    "np.random.seed(0)\n",
    "synthetic_text_train = {}\n",
    "synthetic_text_test = {}\n",
    "\n",
    "for author in authors:\n",
    "    print(author)\n",
    "    synthetic_text_train[author] = []\n",
    "    synthetic_text_test[author] = []\n",
    "    for i in range(texts_per_author):\n",
    "        synthetic_text_train[author].append(generate_text(train_backoff[author], n, length_of_text))\n",
    "        synthetic_text_test[author].append(generate_text(train_backoff[author], n, length_of_text))"
   ]
  },
  {
   "cell_type": "code",
   "execution_count": 17,
   "metadata": {},
   "outputs": [
    {
     "data": {
      "text/plain": [
       "\"leach introduce in the previous congress founder last june amid opposition from the insurance industry and house democrat . analyst have say this year's bill might have a good chance of passage, but that be before leach decide to oppose newt gingrich's reelection a speaker of the house, a move that could turn the leadership against his bill.\""
      ]
     },
     "execution_count": 17,
     "metadata": {},
     "output_type": "execute_result"
    }
   ],
   "source": [
    "# Text is realistic\n",
    "\n",
    "from nltk.tokenize.treebank import TreebankWordDetokenizer\n",
    "twd = TreebankWordDetokenizer()\n",
    "twd.detokenize(synthetic_text_train[authors[0]][0][:63])"
   ]
  },
  {
   "cell_type": "markdown",
   "metadata": {},
   "source": [
    "# Step 2(b) Probabilistic Solution"
   ]
  },
  {
   "cell_type": "code",
   "execution_count": 18,
   "metadata": {},
   "outputs": [],
   "source": [
    "def log_probability(tokens, backoff, n, weight_on_prefix, weight_on_unk):\n",
    "    log_prob = 0\n",
    "    for i in range(len(tokens)):\n",
    "        target_token = tokens[i][0]\n",
    "        prefix = tokens[max(i-n+1,0):i]\n",
    "        while len(prefix) > 0:\n",
    "            length_of_prefix = len(prefix)\n",
    "            if length_of_prefix == 1:\n",
    "                prefix = prefix[0]\n",
    "            else:\n",
    "                prefix = tuple(prefix)\n",
    "            if prefix in backoff[length_of_prefix] and target_token in backoff[length_of_prefix][prefix]:\n",
    "                counter = backoff[length_of_prefix][prefix]\n",
    "                log_prob += np.log(weight_on_prefix*length_of_prefix*counter[target_token]/sum(counter.values()))\n",
    "                break\n",
    "            else:\n",
    "                if length_of_prefix == 1:\n",
    "                    break\n",
    "                prefix = list(prefix)[1:]\n",
    "        if len(prefix) == 0:\n",
    "            if target_token in backoff[0]:\n",
    "                log_prob += np.log(backoff[0][target_token]/sum(backoff[0].values()))\n",
    "            else:\n",
    "                # low prob when encountering a new word\n",
    "                log_prob += np.log(weight_on_unk)\n",
    "    return log_prob"
   ]
  },
  {
   "cell_type": "markdown",
   "metadata": {},
   "source": [
    "# Step 3 Neural Network Solution"
   ]
  },
  {
   "cell_type": "code",
   "execution_count": 19,
   "metadata": {},
   "outputs": [
    {
     "data": {
      "text/plain": [
       "<torch._C.Generator at 0x13ae0d8f0>"
      ]
     },
     "execution_count": 19,
     "metadata": {},
     "output_type": "execute_result"
    }
   ],
   "source": [
    "import torch\n",
    "import torch.nn as nn\n",
    "import torch.nn.functional as F\n",
    "import torch.optim as optim\n",
    "np.random.seed(0)\n",
    "torch.manual_seed(0)"
   ]
  },
  {
   "cell_type": "code",
   "execution_count": 20,
   "metadata": {},
   "outputs": [],
   "source": [
    "class FindAuthor(nn.Module):\n",
    "    def __init__(self):\n",
    "        super(FindAuthor, self).__init__()\n",
    "        self.GRU = nn.GRU(300, 200, bias = False)     \n",
    "        self.conv = nn.Conv1d(1, 1, kernel_size = 1, stride = 2, bias = False)\n",
    "        self.linear = nn.Linear(100,10)\n",
    "        \n",
    "    def forward(self, sentence_input):\n",
    "        out, hidden = self.GRU(sentence_input)\n",
    "        conv_out = self.conv(out)\n",
    "        pooled_output = torch.mean(conv_out, 0, True)\n",
    "        probs = self.linear(pooled_output)\n",
    "        return F.log_softmax(probs, dim=2).view(1,10)"
   ]
  },
  {
   "cell_type": "markdown",
   "metadata": {},
   "source": [
    "# Step 4 (a) Probabilistic Solution on Synthetic Data\n",
    "## Hyper-parameter Tuning"
   ]
  },
  {
   "cell_type": "code",
   "execution_count": 21,
   "metadata": {},
   "outputs": [],
   "source": [
    "def get_accuracy(train_backoff, test_dict, n, weight_on_prefix, weight_on_unk):\n",
    "    accuracy = []\n",
    "    for j in range(len(authors)):\n",
    "        predictions_for_author_j = []\n",
    "        test_size_per_author = len(test_dict[authors[0]])\n",
    "        for i in range(test_size_per_author):\n",
    "            results = []\n",
    "            for author in authors:\n",
    "                results.append(log_probability(test_dict[authors[j]][i], train_backoff[author], n, weight_on_prefix, weight_on_unk))\n",
    "            #classify as correct if within top 1 result\n",
    "            predictions_for_author_j.append(sorted(range(len(results)), key=lambda i: results[i], reverse=True)[:1])\n",
    "        num_correct = 0\n",
    "        for prediction in predictions_for_author_j:\n",
    "            if j in prediction:\n",
    "                num_correct += 1\n",
    "        accuracy.append(num_correct/test_size_per_author)\n",
    "    #print(np.mean(accuracy), weight_on_prefix, weight_on_unk, n)\n",
    "    return np.mean(accuracy)"
   ]
  },
  {
   "cell_type": "code",
   "execution_count": 22,
   "metadata": {},
   "outputs": [],
   "source": [
    "def get_accuracy_per_author(train_backoff, test_dict, n, weight_on_prefix, weight_on_unk):\n",
    "    predictions = []\n",
    "    for j in range(len(authors)):\n",
    "        predictions_for_author_j = []\n",
    "        test_size_per_author = len(test_dict[authors[0]])\n",
    "        for i in range(test_size_per_author):\n",
    "            results = []\n",
    "            for author in authors:\n",
    "                results.append(log_probability(test_dict[authors[j]][i], train_backoff[author], n, weight_on_prefix, weight_on_unk))\n",
    "            #classify as correct if within top 1 result\n",
    "            predictions_for_author_j.append(sorted(range(len(results)), key=lambda i: results[i], reverse=True)[:1])\n",
    "        num_correct = 0\n",
    "        predictions.append(predictions_for_author_j)\n",
    "        for prediction in predictions_for_author_j:\n",
    "            if j in prediction:\n",
    "                num_correct += 1\n",
    "    #print(np.mean(accuracy), weight_on_prefix, weight_on_unk, n)\n",
    "    return predictions"
   ]
  },
  {
   "cell_type": "code",
   "execution_count": 23,
   "metadata": {},
   "outputs": [],
   "source": [
    "# Splits training data into 3 train-validation folds\n",
    "split_1_train = {}\n",
    "split_1_test = {}\n",
    "split_2_train = {}\n",
    "split_2_test = {}\n",
    "split_3_train = {}\n",
    "split_3_test = {}\n",
    "for author in authors:\n",
    "    split_1_train[author] = synthetic_text_train[author][:34]\n",
    "    split_1_test[author] = synthetic_text_train[author][34:]\n",
    "    split_2_train[author] = synthetic_text_train[author][:17] + train_processed[author][34:]\n",
    "    split_2_test[author] = synthetic_text_train[author][17:34]\n",
    "    split_3_train[author] = synthetic_text_train[author][17:]\n",
    "    split_3_test[author] = synthetic_text_train[author][:17]"
   ]
  },
  {
   "cell_type": "code",
   "execution_count": 24,
   "metadata": {},
   "outputs": [],
   "source": [
    "weights_on_prefix = [100, 125, 150, 175, 200]\n",
    "weights_on_unk = [0.0001, 0.001, 0.01, 0.1, 1]\n",
    "ns = [6]\n",
    "hyperparameters = []\n",
    "for n in ns:\n",
    "    for weight_on_prefix in weights_on_prefix:\n",
    "        for weight_on_unk in weights_on_unk:\n",
    "            hyperparameters.append(\"n: {}, weight on prefix: {}, weight on unk: {}\".format(n, weight_on_prefix, weight_on_unk))"
   ]
  },
  {
   "cell_type": "code",
   "execution_count": 25,
   "metadata": {},
   "outputs": [],
   "source": [
    "def get_accuracy_for_split(train, test, ns, weights_on_prefix, weights_on_unk):\n",
    "    accuracies = []\n",
    "    for n in ns:\n",
    "        train_backoff = {}\n",
    "        for author in authors:\n",
    "            train_backoff[author] = generate_backoff(n, train[author])\n",
    "        for weight_on_prefix in weights_on_prefix:\n",
    "            for weight_on_unk in weights_on_unk:\n",
    "                accuracies.append(get_accuracy(train_backoff, test, n, weight_on_prefix, weight_on_unk))\n",
    "                if len(ns) > 1:\n",
    "                    if len(accuracies) % 20 == 0:\n",
    "                        print(\"{}% done\".format(100*len(accuracies)/100))\n",
    "    return accuracies"
   ]
  },
  {
   "cell_type": "code",
   "execution_count": 26,
   "metadata": {},
   "outputs": [],
   "source": [
    "split_1_accuracy = get_accuracy_for_split(split_1_train, split_1_test, ns, weights_on_prefix, weights_on_unk)"
   ]
  },
  {
   "cell_type": "code",
   "execution_count": 27,
   "metadata": {},
   "outputs": [],
   "source": [
    "split_2_accuracy = get_accuracy_for_split(split_2_train, split_2_test, ns, weights_on_prefix, weights_on_unk)"
   ]
  },
  {
   "cell_type": "code",
   "execution_count": 28,
   "metadata": {},
   "outputs": [],
   "source": [
    "split_3_accuracy = get_accuracy_for_split(split_3_train, split_3_test, ns, weights_on_prefix, weights_on_unk)"
   ]
  },
  {
   "cell_type": "code",
   "execution_count": 29,
   "metadata": {},
   "outputs": [
    {
     "data": {
      "text/plain": [
       "array([47. , 47. , 47.1, 47. , 46.9, 47.1, 47.1, 47.2, 47.2, 47.2, 47.2,\n",
       "       47.2, 47.3, 47.3, 47.3, 47.5, 47.6, 47.6, 47.6, 47.6, 47.5, 47.5,\n",
       "       47.5, 47.5, 47.5])"
      ]
     },
     "execution_count": 29,
     "metadata": {},
     "output_type": "execute_result"
    }
   ],
   "source": [
    "full_accuracies = np.array(split_1_accuracy)*len(split_1_test[authors[0]]) + np.array(split_2_accuracy)*len(split_2_test[authors[0]]) + np.array(split_3_accuracy)*len(split_3_test[authors[0]])\n",
    "full_accuracies"
   ]
  },
  {
   "cell_type": "code",
   "execution_count": 30,
   "metadata": {},
   "outputs": [
    {
     "name": "stdout",
     "output_type": "stream",
     "text": [
      "n: 6, weight on prefix: 175, weight on unk: 0.001\n",
      "n: 6, weight on prefix: 175, weight on unk: 0.01\n",
      "n: 6, weight on prefix: 175, weight on unk: 0.1\n",
      "n: 6, weight on prefix: 175, weight on unk: 1\n"
     ]
    }
   ],
   "source": [
    "max_val = max(full_accuracies)\n",
    "for i in range(len(full_accuracies)):\n",
    "    if full_accuracies[i] == max_val:\n",
    "        print(hyperparameters[i])"
   ]
  },
  {
   "cell_type": "code",
   "execution_count": 31,
   "metadata": {},
   "outputs": [
    {
     "name": "stdout",
     "output_type": "stream",
     "text": [
      "[47.  47.  47.1 47.  46.9]\n",
      "[47.1 47.1 47.2 47.2 47.2]\n",
      "[47.2 47.2 47.3 47.3 47.3]\n",
      "[47.5 47.6 47.6 47.6 47.6]\n",
      "[47.5 47.5 47.5 47.5 47.5]\n"
     ]
    }
   ],
   "source": [
    "# Note that weight_on_unk = 0.01 has the highest average\n",
    "print(full_accuracies[0:5])\n",
    "print(full_accuracies[5:10])\n",
    "print(full_accuracies[10:15])\n",
    "print(full_accuracies[15:20])\n",
    "print(full_accuracies[20:25])"
   ]
  },
  {
   "cell_type": "markdown",
   "metadata": {},
   "source": [
    "## Train and Test Accuracy"
   ]
  },
  {
   "cell_type": "code",
   "execution_count": 32,
   "metadata": {},
   "outputs": [],
   "source": [
    "# Generate backoff from synthetic train data\n",
    "n = 6\n",
    "weight_on_prefix = 175\n",
    "weight_on_unk = 0.01\n",
    "synthetic_train_backoff = {}\n",
    "for author in authors:\n",
    "    synthetic_train_backoff[author] = generate_backoff(n, synthetic_text_train[author])"
   ]
  },
  {
   "cell_type": "code",
   "execution_count": 33,
   "metadata": {},
   "outputs": [
    {
     "name": "stdout",
     "output_type": "stream",
     "text": [
      "Train Accuracy: 100.0%\n",
      "Test Accuracy: 95.8%\n"
     ]
    }
   ],
   "source": [
    "# Train accuracy\n",
    "print(\"Train Accuracy: {}%\".format(100*get_accuracy(synthetic_train_backoff, synthetic_text_train, n, weight_on_prefix, weight_on_unk)))\n",
    "# Test accuracy\n",
    "print(\"Test Accuracy: {}%\".format(100*get_accuracy(synthetic_train_backoff, synthetic_text_test, n, weight_on_prefix, weight_on_unk)))"
   ]
  },
  {
   "cell_type": "markdown",
   "metadata": {},
   "source": [
    "# Step 4(b) Neural Network Solution on Synthetic Data\n",
    "\n",
    "## Further Process Data"
   ]
  },
  {
   "cell_type": "code",
   "execution_count": 34,
   "metadata": {},
   "outputs": [],
   "source": [
    "# Synthetic data represents a document as a list of tokens\n",
    "# Neural net processes documents as a list of sentences, where each sentence is a list of tokens\n",
    "# To get our sentences, we first detokenize the synthetic data\n",
    "# Then split them into sentences\n",
    "# Then tokenize each sentence\n",
    "\n",
    "synthetic_train_processed = {}\n",
    "synthetic_test_processed = {}\n",
    "for author in authors:\n",
    "    synthetic_train_processed[author] = []\n",
    "    synthetic_test_processed[author] = []\n",
    "    for document in synthetic_text_train[author]:\n",
    "        synthetic_train_processed[author].append(process_text_2(twd.detokenize(document)))\n",
    "    for document in synthetic_text_test[author]:\n",
    "        synthetic_test_processed[author].append(process_text_2(twd.detokenize(document)))"
   ]
  },
  {
   "cell_type": "code",
   "execution_count": 35,
   "metadata": {},
   "outputs": [],
   "source": [
    "# Load pre-trained word embedding\n",
    "import gensim.downloader\n",
    "glove_vectors = gensim.downloader.load('glove-wiki-gigaword-300')"
   ]
  },
  {
   "cell_type": "code",
   "execution_count": 36,
   "metadata": {},
   "outputs": [],
   "source": [
    "# processed_dict is a dictionary training data\n",
    "# where authors are keys\n",
    "# and values are a list of documents\n",
    "# each document is a list of sentences\n",
    "# each sentence is a list of tokens\n",
    "# vocab is a set of unique words in the training data\n",
    "# idf is a dictionary, \n",
    "# where authors are keys\n",
    "# and values are the idf weights for each word in vocab\n",
    "\n",
    "def create_vocab_and_idf(processed_dict):\n",
    "    author_dicts = {}\n",
    "    vocab = set()\n",
    "    for author in authors:\n",
    "        author_dicts[author] = Counter()\n",
    "        for document in processed_dict[author]:\n",
    "            for sentence in document:\n",
    "                author_dicts[author] += Counter(sentence)\n",
    "        vocab.update(author_dicts[author].keys())\n",
    "\n",
    "    word_counts = {}\n",
    "    for word in vocab:\n",
    "        counter = 0\n",
    "        for author in authors:\n",
    "            if word in author_dicts[author]:\n",
    "                counter += 1\n",
    "        word_counts[word] = counter\n",
    "        \n",
    "    idf = {}\n",
    "    for word in vocab:\n",
    "        idf[word] = np.log(len(authors)/word_counts[word])\n",
    "                \n",
    "    return (vocab, idf)"
   ]
  },
  {
   "cell_type": "code",
   "execution_count": 37,
   "metadata": {},
   "outputs": [],
   "source": [
    "# processed_dict is a dictionary training data\n",
    "# where authors are keys\n",
    "# and values are a list of documents\n",
    "# each document is a list of sentences\n",
    "# each sentence is a list of tokens\n",
    "\n",
    "# output is a dictionary\n",
    "# where authors are keys\n",
    "# and values are a list of documents\n",
    "# each document is a list of sentences\n",
    "# each sentence is a numerical np array\n",
    "# obtained as a weighted average of its token's numerical embeddings\n",
    "# the weight on each token is determined by idf\n",
    "\n",
    "def convert_to_w2v_sentence_averaged(processed_dict, vocab, idf):\n",
    "    w2v_averaged = {}\n",
    "    for author in authors:\n",
    "        w2v_averaged[author] = []\n",
    "        for document in processed_dict[author]:\n",
    "            w2v_document = []\n",
    "            for sentence in document:\n",
    "                w2v_sentence = [glove_vectors[word] for word in sentence if word in glove_vectors and word in vocab]\n",
    "                if len(w2v_sentence) == 0:\n",
    "                    continue\n",
    "                weights = [idf[word] for word in sentence if word in glove_vectors and word in vocab]\n",
    "                if sum(weights) != 0:\n",
    "                    w2v_sentence_averaged = np.zeros(len(w2v_sentence[0]))\n",
    "                    for i in range(len(weights)):\n",
    "                        w2v_sentence_averaged += w2v_sentence[i]*weights[i]\n",
    "                    # normalize weights such that the sum of weights on the tokens for each sentence sum to 1\n",
    "                    w2v_sentence_averaged /= sum(weights)\n",
    "                    w2v_sentence_averaged = w2v_sentence_averaged.astype(np.float32)\n",
    "                else:\n",
    "                    # if sentence comprises of tokens all with 0 weight\n",
    "                    # take the (unweighted) average of all tokens\n",
    "                    w2v_sentence_averaged = np.mean(np.array(w2v_sentence), axis=0)\n",
    "                w2v_document.append(w2v_sentence_averaged)\n",
    "            w2v_averaged[author].append(w2v_document)\n",
    "    return w2v_averaged"
   ]
  },
  {
   "cell_type": "code",
   "execution_count": 38,
   "metadata": {},
   "outputs": [],
   "source": [
    "synthetic_vocab, synthetic_idf = create_vocab_and_idf(synthetic_train_processed)\n",
    "synthetic_train_w2v_averaged = convert_to_w2v_sentence_averaged(synthetic_train_processed, synthetic_vocab, synthetic_idf)\n",
    "synthetic_test_w2v_averaged = convert_to_w2v_sentence_averaged(synthetic_test_processed, synthetic_vocab, synthetic_idf)"
   ]
  },
  {
   "cell_type": "code",
   "execution_count": 39,
   "metadata": {},
   "outputs": [],
   "source": [
    "def convert_document_to_torch_input(document):\n",
    "    inputs = [torch.from_numpy(sentence).view(1,-1) for sentence in document]\n",
    "    return torch.cat(inputs).view(len(inputs), 1, -1)"
   ]
  },
  {
   "cell_type": "code",
   "execution_count": 40,
   "metadata": {},
   "outputs": [],
   "source": [
    "synthetic_training_data = []\n",
    "synthetic_testing_data = []\n",
    "for author in authors:\n",
    "    for document in synthetic_train_w2v_averaged[author]:\n",
    "        synthetic_training_data.append(convert_document_to_torch_input(document))\n",
    "    for document in synthetic_test_w2v_averaged[author]:\n",
    "        synthetic_testing_data.append(convert_document_to_torch_input(document))"
   ]
  },
  {
   "cell_type": "code",
   "execution_count": 41,
   "metadata": {},
   "outputs": [],
   "source": [
    "x = np.array([x for x in range(10)])\n",
    "targets = torch.from_numpy(np.repeat(x, [50 for y in range(10)], axis=0))"
   ]
  },
  {
   "cell_type": "code",
   "execution_count": 42,
   "metadata": {},
   "outputs": [],
   "source": [
    "# Orders data such that targets are 0, 1, 2, 3, 4, 5, 6, 7, 8, 9, 0 ...\n",
    "# Used in mini batch gradient descent\n",
    "jumbled_synthetic_training_data = []\n",
    "for i in range(len(synthetic_train_w2v_averaged[author])):\n",
    "    for author in authors:\n",
    "        jumbled_synthetic_training_data.append(convert_document_to_torch_input(synthetic_train_w2v_averaged[author][i]))"
   ]
  },
  {
   "cell_type": "code",
   "execution_count": 43,
   "metadata": {},
   "outputs": [],
   "source": [
    "jumbled_targets = torch.tensor([0,1,2,3,4,5,6,7,8,9]*50)"
   ]
  },
  {
   "cell_type": "markdown",
   "metadata": {},
   "source": [
    "## Model Training"
   ]
  },
  {
   "cell_type": "code",
   "execution_count": 44,
   "metadata": {},
   "outputs": [
    {
     "name": "stdout",
     "output_type": "stream",
     "text": [
      "tensor(0.2854, grad_fn=<NllLossBackward>)\n",
      "tensor(0.0299, grad_fn=<NllLossBackward>)\n",
      "tensor(0.0048, grad_fn=<NllLossBackward>)\n",
      "tensor(0.0032, grad_fn=<NllLossBackward>)\n",
      "tensor(0.0011, grad_fn=<NllLossBackward>)\n",
      "tensor(0.0007, grad_fn=<NllLossBackward>)\n",
      "5\n"
     ]
    }
   ],
   "source": [
    "torch.manual_seed(0)\n",
    "model = FindAuthor()\n",
    "loss_function = nn.NLLLoss()\n",
    "optimizer = optim.Adadelta(model.parameters(), lr=1.0, rho=0.9, eps=1e-06, weight_decay=0)\n",
    "\n",
    "for epoch in range(300):  \n",
    "    tags = []\n",
    "    for i in range(len(jumbled_synthetic_training_data)):\n",
    "        model.zero_grad()\n",
    "        document = jumbled_synthetic_training_data[i]\n",
    "        tags.append(model(document))\n",
    "        # Mini batch gradient descent\n",
    "        if i % 10 == 9:\n",
    "            tag_scores = torch.cat(tags)\n",
    "            loss = loss_function(tag_scores, jumbled_targets[:10])\n",
    "            loss.backward()\n",
    "            optimizer.step()\n",
    "            tags = []\n",
    "    print(loss)\n",
    "    if loss < 0.001:\n",
    "        print(epoch)\n",
    "        break"
   ]
  },
  {
   "cell_type": "markdown",
   "metadata": {},
   "source": [
    "## Training and Testing Accuracy"
   ]
  },
  {
   "cell_type": "code",
   "execution_count": 45,
   "metadata": {},
   "outputs": [
    {
     "name": "stdout",
     "output_type": "stream",
     "text": [
      "Training Accuracy: 100.0%\n"
     ]
    }
   ],
   "source": [
    "synthetic_training_predictions = [np.argmax(model(document).view(-1).detach().numpy()) for document in synthetic_training_data]\n",
    "print(\"Training Accuracy: {}%\".format(100*np.mean(targets.detach().numpy() == synthetic_training_predictions)))"
   ]
  },
  {
   "cell_type": "code",
   "execution_count": 46,
   "metadata": {},
   "outputs": [
    {
     "name": "stdout",
     "output_type": "stream",
     "text": [
      "Testing Accuracy: 99.0%\n"
     ]
    }
   ],
   "source": [
    "synthetic_testing_predictions = [np.argmax(model(document).view(-1).detach().numpy()) for document in synthetic_testing_data]\n",
    "print(\"Testing Accuracy: {}%\".format(100*np.mean(targets.detach().numpy() == synthetic_testing_predictions)))"
   ]
  },
  {
   "cell_type": "markdown",
   "metadata": {},
   "source": [
    "# Step 5(a) Probabilistic Solution on Real Data\n",
    "## Hyperparameter Tuning"
   ]
  },
  {
   "cell_type": "code",
   "execution_count": 47,
   "metadata": {},
   "outputs": [],
   "source": [
    "split_1_train = {}\n",
    "split_1_test = {}\n",
    "split_2_train = {}\n",
    "split_2_test = {}\n",
    "split_3_train = {}\n",
    "split_3_test = {}\n",
    "for author in authors:\n",
    "    split_1_train[author] = train_processed[author][:34]\n",
    "    split_1_test[author] = train_processed[author][34:]\n",
    "    split_2_train[author] = train_processed[author][:17] + train_processed[author][34:]\n",
    "    split_2_test[author] = train_processed[author][17:34]\n",
    "    split_3_train[author] = train_processed[author][17:]\n",
    "    split_3_test[author] = train_processed[author][:17]"
   ]
  },
  {
   "cell_type": "code",
   "execution_count": 48,
   "metadata": {},
   "outputs": [],
   "source": [
    "weights_on_prefix = [75, 100, 125, 150, 175]\n",
    "weights_on_unk = [0.001, 0.005, 0.01, 0.05, 0.1]\n",
    "ns = [4,5,6,7]\n",
    "\n",
    "hyperparameters = []\n",
    "for n in ns:\n",
    "    for weight_on_prefix in weights_on_prefix:\n",
    "        for weight_on_unk in weights_on_unk:\n",
    "            hyperparameters.append(\"n: {}, weight on prefix: {}, weight on unk: {}\".format(n, weight_on_prefix, weight_on_unk))"
   ]
  },
  {
   "cell_type": "code",
   "execution_count": 49,
   "metadata": {},
   "outputs": [
    {
     "name": "stdout",
     "output_type": "stream",
     "text": [
      "20.0% done\n",
      "40.0% done\n",
      "60.0% done\n",
      "80.0% done\n",
      "100.0% done\n"
     ]
    }
   ],
   "source": [
    "split_1_accuracy = get_accuracy_for_split(split_1_train, split_1_test, ns, weights_on_prefix, weights_on_unk)"
   ]
  },
  {
   "cell_type": "code",
   "execution_count": 50,
   "metadata": {},
   "outputs": [
    {
     "name": "stdout",
     "output_type": "stream",
     "text": [
      "20.0% done\n",
      "40.0% done\n",
      "60.0% done\n",
      "80.0% done\n",
      "100.0% done\n"
     ]
    }
   ],
   "source": [
    "split_2_accuracy = get_accuracy_for_split(split_2_train, split_2_test, ns, weights_on_prefix, weights_on_unk)"
   ]
  },
  {
   "cell_type": "code",
   "execution_count": 51,
   "metadata": {},
   "outputs": [
    {
     "name": "stdout",
     "output_type": "stream",
     "text": [
      "20.0% done\n",
      "40.0% done\n",
      "60.0% done\n",
      "80.0% done\n",
      "100.0% done\n"
     ]
    }
   ],
   "source": [
    "split_3_accuracy = get_accuracy_for_split(split_3_train, split_3_test, ns, weights_on_prefix, weights_on_unk)"
   ]
  },
  {
   "cell_type": "code",
   "execution_count": 52,
   "metadata": {},
   "outputs": [
    {
     "name": "stdout",
     "output_type": "stream",
     "text": [
      "[44.5 44.5 44.4 44.4 44.3 44.7 44.8 44.6 44.7 44.7 45.1 45.2 45.1 45.\n",
      " 45.1 45.  45.1 45.2 45.1 45.1 45.1 45.2 45.2 45.1 45.1 44.8 44.7 44.6\n",
      " 44.6 44.6 44.9 45.  44.9 44.9 44.9 45.1 45.2 45.2 45.1 45.2 45.  45.1\n",
      " 45.2 45.1 45.1 45.1 45.2 45.2 45.1 45.1 44.8 44.7 44.6 44.6 44.6 45.\n",
      " 45.1 45.  45.  45.  45.1 45.2 45.2 45.1 45.2 45.1 45.2 45.3 45.2 45.2\n",
      " 45.1 45.2 45.2 45.1 45.1 44.8 44.7 44.6 44.6 44.6 45.  45.1 45.  45.\n",
      " 45.  45.1 45.2 45.2 45.1 45.2 45.1 45.2 45.3 45.2 45.2 45.1 45.2 45.2\n",
      " 45.1 45.1] \n",
      "\n",
      "67 \n",
      "\n",
      "n: 6, weight on prefix: 150, weight on unk: 0.01 \n",
      "\n"
     ]
    }
   ],
   "source": [
    "full_accuracies = np.array(split_1_accuracy)*len(split_1_test[authors[0]]) + np.array(split_2_accuracy)*len(split_2_test[authors[0]]) + np.array(split_3_accuracy)*len(split_3_test[authors[0]])\n",
    "print(full_accuracies, \"\\n\")\n",
    "print(np.argmax(full_accuracies), \"\\n\")\n",
    "print(hyperparameters[67], \"\\n\")"
   ]
  },
  {
   "cell_type": "code",
   "execution_count": 53,
   "metadata": {},
   "outputs": [
    {
     "name": "stdout",
     "output_type": "stream",
     "text": [
      "[44.8 44.7 44.6 44.6 44.6 45.  45.1 45.  45.  45.  45.1 45.2 45.2 45.1\n",
      " 45.2 45.1 45.2 45.3 45.2 45.2 45.1 45.2 45.2 45.1 45.1] \n",
      "\n",
      "[44.8 44.7 44.6 44.6 44.6 45.  45.1 45.  45.  45.  45.1 45.2 45.2 45.1\n",
      " 45.2 45.1 45.2 45.3 45.2 45.2 45.1 45.2 45.2 45.1 45.1] \n",
      "\n"
     ]
    }
   ],
   "source": [
    "# Notice that n = 6 and n = 7 have the exact same result\n",
    "print(full_accuracies[50:75], \"\\n\")\n",
    "print(full_accuracies[75:100], \"\\n\")"
   ]
  },
  {
   "cell_type": "markdown",
   "metadata": {},
   "source": [
    "## Train and Test Accuracy"
   ]
  },
  {
   "cell_type": "code",
   "execution_count": 54,
   "metadata": {},
   "outputs": [],
   "source": [
    "n = 6\n",
    "weight_on_prefix = 150\n",
    "weight_on_unk = 0.01\n",
    "# Generate backoff from synthetic train data\n",
    "train_backoff = {}\n",
    "for author in authors:\n",
    "    train_backoff[author] = generate_backoff(n, train_processed[author])"
   ]
  },
  {
   "cell_type": "code",
   "execution_count": 55,
   "metadata": {},
   "outputs": [
    {
     "name": "stdout",
     "output_type": "stream",
     "text": [
      "Train Accuracy: 100.0%\n",
      "Test Accuracy: 78.99999999999999%\n"
     ]
    }
   ],
   "source": [
    "# Train accuracy\n",
    "print(\"Train Accuracy: {}%\".format(100*get_accuracy(train_backoff, train_processed, n, weight_on_prefix, weight_on_unk)))\n",
    "# Test accuracy\n",
    "print(\"Test Accuracy: {}%\".format(100*get_accuracy(train_backoff, test_processed, n, weight_on_prefix, weight_on_unk)))"
   ]
  },
  {
   "cell_type": "code",
   "execution_count": 56,
   "metadata": {},
   "outputs": [],
   "source": [
    "predictions = get_accuracy_per_author(train_backoff, test_processed, n, weight_on_prefix, weight_on_unk)\n",
    "\n",
    "y_pred_authors = []\n",
    "#convert to authors\n",
    "for author in predictions:\n",
    "    for prediction in author:\n",
    "        pre = prediction[0]\n",
    "        if pre == 0:\n",
    "            y_pred_authors.append(\"AaronPressman\")\n",
    "        elif pre == 1:\n",
    "            y_pred_authors.append(\"AlanCrosby\")\n",
    "        elif pre == 2:\n",
    "            y_pred_authors.append(\"AlexanderSmith\")\n",
    "        elif pre == 3:\n",
    "            y_pred_authors.append(\"BenjaminKangLim\")\n",
    "        elif pre == 4:\n",
    "            y_pred_authors.append(\"BernardHickey\")\n",
    "        elif pre == 5:\n",
    "            y_pred_authors.append(\"BradDorfman\")\n",
    "        elif pre == 6:\n",
    "            y_pred_authors.append(\"DarrenSchuettler\")\n",
    "        elif pre == 7:\n",
    "            y_pred_authors.append(\"DavidLawder\")\n",
    "        elif pre == 8:\n",
    "            y_pred_authors.append(\"EdnaFernandes\")\n",
    "        elif pre == 9:\n",
    "            y_pred_authors.append(\"EricAuchard\")"
   ]
  },
  {
   "cell_type": "code",
   "execution_count": 57,
   "metadata": {},
   "outputs": [],
   "source": [
    "y_act = []\n",
    "\n",
    "y_act[:50] = [\"AaronPressman\"]*50\n",
    "y_act[51:100] = [\"AlanCrosby\"]*50\n",
    "y_act[101:150] = [\"AlexanderSmith\"]*50\n",
    "y_act[151:200] = [\"BenjaminKangLim\"]*50\n",
    "y_act[201:250] = [\"BernardHickey\"]*50\n",
    "y_act[251:300] = [\"BradDorfman\"]*50\n",
    "y_act[301:350] = [\"DarrenSchuettler\"]*50\n",
    "y_act[351:400] = [\"DavidLawder\"]*50\n",
    "y_act[401:450] = [\"EdnaFernandes\"]*50\n",
    "y_act[451:500] = [\"EricAuchard\"]*50"
   ]
  },
  {
   "cell_type": "code",
   "execution_count": 58,
   "metadata": {},
   "outputs": [
    {
     "name": "stdout",
     "output_type": "stream",
     "text": [
      "[[40  0  1  3  0  2  2  0  1  1]\n",
      " [ 0 46  0  0  0  1  3  0  0  0]\n",
      " [ 1  0 43  0  0  0  0  0  5  1]\n",
      " [ 3  1  0 44  0  0  1  0  0  1]\n",
      " [ 0  0  2  0 42  0  4  0  1  1]\n",
      " [ 0  0  0  0  0 43  2  1  0  4]\n",
      " [ 1  0  0  0  0  2 47  0  0  0]\n",
      " [ 1  0  0  1  0 24  2 21  0  1]\n",
      " [ 0  0 10  0  0  1  7  0 32  0]\n",
      " [ 0  0  0  0  0 10  3  0  0 37]]\n"
     ]
    },
    {
     "data": {
      "image/png": "[encoded data removed]",
      "text/plain": [
       "<Figure size 432x288 with 2 Axes>"
      ]
     },
     "metadata": {
      "needs_background": "light"
     },
     "output_type": "display_data"
    }
   ],
   "source": [
    "from sklearn.metrics import confusion_matrix\n",
    "import seaborn as sns\n",
    "import matplotlib.pyplot as plt \n",
    "\n",
    "labels=[\"AaronPressman\",\"AlanCrosby\",\"AlexanderSmith\",\"BenjaminKangLim\",\"BernardHickey\",\"BradDorfman\",\"DarrenSchuettler\",\"DavidLawder\",\"EdnaFernandes\",\"EricAuchard\"]\n",
    "cm = confusion_matrix(y_act, y_pred_authors, labels)\n",
    "print(cm)\n",
    "fig = plt.figure()\n",
    "ax = fig.add_subplot(111)\n",
    "cax = ax.matshow(cm)\n",
    "fig.colorbar(cax)\n",
    "ax.set_xticks(np.arange(len(labels)))\n",
    "ax.set_yticks(np.arange(len(labels)))\n",
    "ax.xaxis.set_ticklabels(labels, rotation = 90) \n",
    "ax.yaxis.set_ticklabels(labels)\n",
    "plt.xlabel('Predicted')\n",
    "plt.ylabel('Actual')\n",
    "plt.show()"
   ]
  },
  {
   "cell_type": "markdown",
   "metadata": {},
   "source": [
    "# Step 5(b) Neural Network Solution on Real Data\n",
    "## Further Process Data"
   ]
  },
  {
   "cell_type": "code",
   "execution_count": 59,
   "metadata": {},
   "outputs": [],
   "source": [
    "vocab, idf = create_vocab_and_idf(train_processed_2)\n",
    "train_w2v_averaged = convert_to_w2v_sentence_averaged(train_processed_2, vocab, idf)\n",
    "test_w2v_averaged = convert_to_w2v_sentence_averaged(test_processed_2, vocab, idf)"
   ]
  },
  {
   "cell_type": "code",
   "execution_count": 60,
   "metadata": {},
   "outputs": [],
   "source": [
    "training_data = []\n",
    "testing_data = []\n",
    "for author in authors:\n",
    "    for document in train_w2v_averaged[author]:\n",
    "        training_data.append(convert_document_to_torch_input(document))\n",
    "    for document in test_w2v_averaged[author]:\n",
    "        testing_data.append(convert_document_to_torch_input(document))"
   ]
  },
  {
   "cell_type": "code",
   "execution_count": 61,
   "metadata": {},
   "outputs": [],
   "source": [
    "jumbled_training_data = []\n",
    "for i in range(len(train_w2v_averaged[author])):\n",
    "    for author in authors:\n",
    "        jumbled_training_data.append(convert_document_to_torch_input(train_w2v_averaged[author][i]))"
   ]
  },
  {
   "cell_type": "markdown",
   "metadata": {},
   "source": [
    "## Model Training"
   ]
  },
  {
   "cell_type": "code",
   "execution_count": 62,
   "metadata": {},
   "outputs": [
    {
     "name": "stdout",
     "output_type": "stream",
     "text": [
      "tensor(0.8583, grad_fn=<NllLossBackward>)\n",
      "tensor(0.5638, grad_fn=<NllLossBackward>)\n",
      "tensor(0.3366, grad_fn=<NllLossBackward>)\n",
      "tensor(0.1881, grad_fn=<NllLossBackward>)\n",
      "tensor(0.0729, grad_fn=<NllLossBackward>)\n",
      "tensor(0.0364, grad_fn=<NllLossBackward>)\n",
      "tensor(0.0110, grad_fn=<NllLossBackward>)\n",
      "tensor(0.1254, grad_fn=<NllLossBackward>)\n",
      "tensor(0.0029, grad_fn=<NllLossBackward>)\n",
      "tensor(0.0016, grad_fn=<NllLossBackward>)\n",
      "tensor(0.0009, grad_fn=<NllLossBackward>)\n",
      "10\n"
     ]
    }
   ],
   "source": [
    "torch.manual_seed(0)\n",
    "model = FindAuthor()\n",
    "loss_function = nn.NLLLoss()\n",
    "optimizer = optim.Adadelta(model.parameters(), lr=1.0, rho=0.9, eps=1e-06, weight_decay=0)\n",
    "\n",
    "for epoch in range(300):  \n",
    "    tags = []\n",
    "    for i in range(len(jumbled_training_data)):\n",
    "        model.zero_grad()\n",
    "        document = jumbled_training_data[i]\n",
    "        tags.append(model(document))\n",
    "        # Mini batch gradient descent\n",
    "        if i % 10 == 9:\n",
    "            tag_scores = torch.cat(tags)\n",
    "            loss = loss_function(tag_scores, jumbled_targets[:10])\n",
    "            loss.backward()\n",
    "            optimizer.step()\n",
    "            tags = []\n",
    "    print(loss)\n",
    "    if loss < 0.001:\n",
    "        print(epoch)\n",
    "        break"
   ]
  },
  {
   "cell_type": "markdown",
   "metadata": {},
   "source": [
    "## Training and Testing Accuracy"
   ]
  },
  {
   "cell_type": "code",
   "execution_count": 63,
   "metadata": {},
   "outputs": [
    {
     "name": "stdout",
     "output_type": "stream",
     "text": [
      "Training Accuracy: 100.0%\n"
     ]
    }
   ],
   "source": [
    "training_predictions = [np.argmax(model(document).view(-1).detach().numpy()) for document in training_data]\n",
    "print(\"Training Accuracy: {}%\".format(100*np.mean(targets.detach().numpy() == training_predictions)))"
   ]
  },
  {
   "cell_type": "code",
   "execution_count": 64,
   "metadata": {},
   "outputs": [
    {
     "name": "stdout",
     "output_type": "stream",
     "text": [
      "Testing Accuracy: 87.0%\n"
     ]
    }
   ],
   "source": [
    "testing_predictions = [np.argmax(model(document).view(-1).detach().numpy()) for document in testing_data]\n",
    "print(\"Testing Accuracy: {}%\".format(100*np.mean(targets.detach().numpy() == testing_predictions)))"
   ]
  },
  {
   "cell_type": "code",
   "execution_count": 65,
   "metadata": {},
   "outputs": [],
   "source": [
    "#convert to authors\n",
    "\n",
    "y_pred = testing_predictions\n",
    "y_pred_authors = []\n",
    "for i in range (len(testing_predictions)):\n",
    "    if y_pred[i] == 0:\n",
    "        y_pred_authors.append(\"AaronPressman\")\n",
    "    elif y_pred[i] == 1:\n",
    "        y_pred_authors.append(\"AlanCrosby\")\n",
    "    elif y_pred[i] == 2:\n",
    "        y_pred_authors.append(\"AlexanderSmith\")\n",
    "    elif y_pred[i] == 3:\n",
    "        y_pred_authors.append(\"BenjaminKangLim\")\n",
    "    elif y_pred[i] == 4:\n",
    "        y_pred_authors.append(\"BernardHickey\")\n",
    "    elif y_pred[i] == 5:\n",
    "        y_pred_authors.append(\"BradDorfman\")\n",
    "    elif y_pred[i] == 6:\n",
    "        y_pred_authors.append(\"DarrenSchuettler\")\n",
    "    elif y_pred[i] == 7:\n",
    "        y_pred_authors.append(\"DavidLawder\")\n",
    "    elif y_pred[i] == 8:\n",
    "        y_pred_authors.append(\"EdnaFernandes\")\n",
    "    elif y_pred[i] == 9:\n",
    "        y_pred_authors.append(\"EricAuchard\")"
   ]
  },
  {
   "cell_type": "code",
   "execution_count": 66,
   "metadata": {},
   "outputs": [
    {
     "name": "stdout",
     "output_type": "stream",
     "text": [
      "[[47  0  1  0  0  1  0  0  0  1]\n",
      " [ 0 50  0  0  0  0  0  0  0  0]\n",
      " [ 1  0 44  1  1  1  0  0  1  1]\n",
      " [ 0  0  0 49  0  0  1  0  0  0]\n",
      " [ 0  0  1  3 40  2  4  0  0  0]\n",
      " [ 0  0  2  1  0 40  2  0  1  4]\n",
      " [ 0  0  1  2  3  0 44  0  0  0]\n",
      " [ 0  0  0  0  0  8  0 40  2  0]\n",
      " [ 0  0  2  2  2  0  0  6 38  0]\n",
      " [ 3  0  2  0  0  1  0  0  1 43]]\n"
     ]
    },
    {
     "data": {
      "image/png": "[encoded data removed]",
      "text/plain": [
       "<Figure size 432x288 with 2 Axes>"
      ]
     },
     "metadata": {
      "needs_background": "light"
     },
     "output_type": "display_data"
    }
   ],
   "source": [
    "from sklearn.metrics import confusion_matrix\n",
    "import seaborn as sns\n",
    "import matplotlib.pyplot as plt \n",
    "\n",
    "labels=[\"AaronPressman\",\"AlanCrosby\",\"AlexanderSmith\",\"BenjaminKangLim\",\"BernardHickey\",\"BradDorfman\",\"DarrenSchuettler\",\"DavidLawder\",\"EdnaFernandes\",\"EricAuchard\"]\n",
    "cm = confusion_matrix(y_act, y_pred_authors, labels)\n",
    "print(cm)\n",
    "fig = plt.figure()\n",
    "ax = fig.add_subplot(111)\n",
    "cax = ax.matshow(cm)\n",
    "fig.colorbar(cax)\n",
    "ax.set_xticks(np.arange(len(labels)))\n",
    "ax.set_yticks(np.arange(len(labels)))\n",
    "ax.xaxis.set_ticklabels(labels, rotation = 90) \n",
    "ax.yaxis.set_ticklabels(labels)\n",
    "plt.xlabel('Predicted')\n",
    "plt.ylabel('Actual')\n",
    "plt.show()"
   ]
  }
 ],
 "metadata": {
  "kernelspec": {
   "display_name": "Python 3",
   "language": "python",
   "name": "python3"
  },
  "language_info": {
   "codemirror_mode": {
    "name": "ipython",
    "version": 3
   },
   "file_extension": ".py",
   "mimetype": "text/x-python",
   "name": "python",
   "nbconvert_exporter": "python",
   "pygments_lexer": "ipython3",
   "version": "3.7.6"
  }
 },
 "nbformat": 4,
 "nbformat_minor": 4
}
